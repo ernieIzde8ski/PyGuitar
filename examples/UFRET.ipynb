{
 "cells": [
  {
   "cell_type": "markdown",
   "metadata": {},
   "source": [
    "# U-FRET"
   ]
  },
  {
   "cell_type": "code",
   "execution_count": 1,
   "metadata": {},
   "outputs": [],
   "source": [
    "url = \"https://www.ufret.jp/song.php?data=5012\""
   ]
  },
  {
   "cell_type": "markdown",
   "metadata": {},
   "source": [
    "### `get_ufret_chords`"
   ]
  },
  {
   "cell_type": "code",
   "execution_count": 2,
   "metadata": {},
   "outputs": [],
   "source": [
    "from guitar.ufret import get_ufret_chords"
   ]
  },
  {
   "cell_type": "code",
   "execution_count": 3,
   "metadata": {},
   "outputs": [
    {
     "name": "stdout",
     "output_type": "stream",
     "text": [
      "Accessing to \u001b[34mhttps://www.ufret.jp/song.php?data=5012\u001b[0m...\n",
      "Set key to \u001b[32m0\u001b[0m...\n"
     ]
    },
    {
     "name": "stderr",
     "output_type": "stream",
     "text": [
      "\r",
      "  0%|          | 0/72 [00:00<?, ?it/s]"
     ]
    },
    {
     "name": "stdout",
     "output_type": "stream",
     "text": [
      "title: \u001b[32m欲望に満ちた青年団 / ONE OK ROCK\u001b[0m\n"
     ]
    },
    {
     "name": "stderr",
     "output_type": "stream",
     "text": [
      "100%|██████████| 72/72 [00:29<00:00,  2.46it/s]\n"
     ]
    }
   ],
   "source": [
    "title, key, data = get_ufret_chords(url, key=\"0\")"
   ]
  },
  {
   "cell_type": "code",
   "execution_count": 4,
   "metadata": {},
   "outputs": [
    {
     "data": {
      "text/plain": [
       "{0: {'chord': ['G#m', 'D#m', 'E', 'B'], 'lyric': ['', '', '', '']},\n",
       " 1: {'chord': ['G#m', 'D#m', 'E', 'B', 'F#'], 'lyric': ['', '', '', '', '']},\n",
       " 2: {'chord': ['G#m', 'D#m', 'E', 'B'], 'lyric': ['', '', '', '']},\n",
       " 3: {'chord': ['G#m', 'D#m', 'E', 'B', 'F#'], 'lyric': ['', '', '', '', '']},\n",
       " 4: {'chord': ['G#m', 'C#m', 'F#', 'B'],\n",
       "  'lyric': ['一度はあの光', 'を見たんだよとて', 'もキレイ', 'で']},\n",
       " 5: {'chord': ['', 'G#m', 'C#m', 'F#', 'B'],\n",
       "  'lyric': ['でも', '今思えば', '汚かったあれは', 'いわゆるBadDay', 'Dreams']},\n",
       " 6: {'chord': ['G#m', 'C#m', 'F#', 'B'],\n",
       "  'lyric': ['光が眩し過ぎ', 'て周りが見えず', 'ただただ', '日々を']},\n",
       " 7: {'chord': ['G#m', 'C#m', 'F#', 'B'],\n",
       "  'lyric': ['棒に振ってた', 'あの日今だ', 'から笑える', 'よ']},\n",
       " 8: {'chord': ['G#m', 'D#m', 'E', 'B'], 'lyric': ['', '', '', '']},\n",
       " 9: {'chord': ['G#m', 'D#m', 'E', 'B', 'F#'], 'lyric': ['', '', '', '', '']},\n",
       " 10: {'chord': ['G#m', 'C#m', 'F#', 'B'],\n",
       "  'lyric': ['一度はあの幕を', '開けたんだよとて', 'も重く', 'て']},\n",
       " 11: {'chord': ['', 'G#m', 'C#m', 'F#', 'B'],\n",
       "  'lyric': ['プ', 'レッシャー、イヤ味それ', 'に勝つためにた', 'だ嫌なヤツ', 'で']},\n",
       " 12: {'chord': ['', 'G#m', 'C#m', 'F#m', 'B'],\n",
       "  'lyric': ['そ', 'して気が付くと真', 'っ暗な部屋に一', '人ぼっちだっ', 'た']},\n",
       " 13: {'chord': ['', 'G#m', 'C#m', 'F#', 'B'],\n",
       "  'lyric': ['終', 'わった…。もう戻', 'れない…。なんて…。', '歩くのも止め', 'た…。']},\n",
       " 14: {'chord': ['', 'G#m', 'F#'],\n",
       "  'lyric': ['でも', \"I'mnotalone.\", \"I'mnotalone\"]},\n",
       " 15: {'chord': ['E'], 'lyric': [\"We'renot,We'renot,We'renotalone\"]},\n",
       " 16: {'chord': ['G#m', 'F#m', 'E', 'F#sus4'],\n",
       "  'lyric': ['お金じゃ買え', 'ないもの手に入れ', 'てwow', 'wow']},\n",
       " 17: {'chord': ['G#m', 'D#m', 'E', 'B'],\n",
       "  'lyric': ['もう一度光', '浴びてそして', '今度は騙され', 'ぬように']},\n",
       " 18: {'chord': ['G#m', 'D#m', 'E', 'B', 'F#'],\n",
       "  'lyric': ['僕らは今目', '指すよ', '欲望に満ちた', '青年', '団']},\n",
       " 19: {'chord': ['G#m', 'D#m', 'E', 'B'],\n",
       "  'lyric': ['誰かが言った', '言葉それす', 'らその時は', '流して']},\n",
       " 20: {'chord': ['G#m', 'D#m', 'E', 'B', 'F#'],\n",
       "  'lyric': ['今になって気付', 'いたよ', '欲望に負けた', '少年', '団']},\n",
       " 21: {'chord': ['E', 'B', 'F#'], 'lyric': ['', '', '']},\n",
       " 22: {'chord': ['E', 'B', 'F#'], 'lyric': ['', '', '']},\n",
       " 23: {'chord': ['E', 'B', 'G#m'], 'lyric': ['', '', '']},\n",
       " 24: {'chord': ['C#7', 'D#7'], 'lyric': ['', '']},\n",
       " 25: {'chord': ['', 'G#m', 'F#'],\n",
       "  'lyric': ['So,', 'Iknowyouknow?', 'YouknowIknow?']},\n",
       " 26: {'chord': ['E'], 'lyric': ['Wehave,Wehave,Wehavegrown']},\n",
       " 27: {'chord': ['G#m', 'F#', 'E', 'F#sus4', 'Fm'],\n",
       "  'lyric': ['捕らわれない', 'ようにと上向い', 'て歩', 'く', '']},\n",
       " 28: {'chord': ['A#m', 'Fm', 'F#', 'C#'],\n",
       "  'lyric': ['もう一度光', '浴びてそして', '今度は騙され', 'ぬように']},\n",
       " 29: {'chord': ['A#m', 'Fm', 'F#', 'C#', 'Fm'],\n",
       "  'lyric': ['僕らは今目', '指すよ', '欲望に満ちた', '青年', '団']},\n",
       " 30: {'chord': ['A#m', 'Fm', 'F#', 'C#'],\n",
       "  'lyric': ['誰かが言った', '言葉それす', 'らその時は', '流して']},\n",
       " 31: {'chord': ['A#m', 'Fm', 'F#', 'C#', 'Fm'],\n",
       "  'lyric': ['今になって気付', 'いたよ', '欲望に負けた', '少年', '団']},\n",
       " 32: {'chord': ['A#m', 'Fm', 'F#', 'C#'], 'lyric': ['', '', '', '']},\n",
       " 33: {'chord': ['A#m', 'Fm', 'F#', 'C#', 'Fm'], 'lyric': ['', '', '', '', '']},\n",
       " 34: {'chord': ['A#m', 'Fm', 'F#', 'C#'], 'lyric': ['', '', '', '']},\n",
       " 35: {'chord': ['A#m', 'Fm', 'F#', 'C#'], 'lyric': ['', '', '', '']}}"
      ]
     },
     "execution_count": 4,
     "metadata": {},
     "output_type": "execute_result"
    }
   ],
   "source": [
    "data"
   ]
  },
  {
   "cell_type": "markdown",
   "metadata": {},
   "source": [
    "### `get_ufret_chords_with_driver`"
   ]
  },
  {
   "cell_type": "code",
   "execution_count": 5,
   "metadata": {},
   "outputs": [],
   "source": [
    "from guitar.ufret import get_ufret_chords_with_driver"
   ]
  },
  {
   "cell_type": "code",
   "execution_count": 6,
   "metadata": {},
   "outputs": [],
   "source": [
    "from selenium import webdriver\n",
    "from selenium.webdriver import DesiredCapabilities\n",
    "from selenium.webdriver.chrome.options import Options\n",
    "\n",
    "chrome_options = Options()\n",
    "chrome_options.add_argument('--no-sandbox')\n",
    "chrome_options.add_argument('--ignore-certificate-errors')\n",
    "chrome_options.add_argument('--headless')\n",
    "chrome_options.add_argument('--disable-dev-shm-usage')"
   ]
  },
  {
   "cell_type": "code",
   "execution_count": 7,
   "metadata": {},
   "outputs": [],
   "source": [
    "driver = webdriver.Remote(command_executor='http://selenium:4444/wd/hub',\n",
    "                              desired_capabilities=DesiredCapabilities.CHROME.copy(),\n",
    "                              options=chrome_options)"
   ]
  },
  {
   "cell_type": "code",
   "execution_count": 8,
   "metadata": {},
   "outputs": [
    {
     "name": "stdout",
     "output_type": "stream",
     "text": [
      "Accessing to \u001b[34mhttps://www.ufret.jp/song.php?data=5012\u001b[0m...\n",
      "Set key to \u001b[32m0\u001b[0m...\n"
     ]
    },
    {
     "name": "stderr",
     "output_type": "stream",
     "text": [
      "\r",
      "  0%|          | 0/72 [00:00<?, ?it/s]"
     ]
    },
    {
     "name": "stdout",
     "output_type": "stream",
     "text": [
      "title: \u001b[32m欲望に満ちた青年団 / ONE OK ROCK\u001b[0m\n"
     ]
    },
    {
     "name": "stderr",
     "output_type": "stream",
     "text": [
      "100%|██████████| 72/72 [00:28<00:00,  2.49it/s]\n"
     ]
    }
   ],
   "source": [
    "get_ufret_chords_with_driver(driver, url, key=\"0\", to_json=True)"
   ]
  },
  {
   "cell_type": "code",
   "execution_count": 9,
   "metadata": {},
   "outputs": [],
   "source": [
    "driver.quit()"
   ]
  },
  {
   "cell_type": "code",
   "execution_count": null,
   "metadata": {},
   "outputs": [],
   "source": []
  }
 ],
 "metadata": {
  "kernelspec": {
   "display_name": "Python 3",
   "language": "python",
   "name": "python3"
  },
  "language_info": {
   "codemirror_mode": {
    "name": "ipython",
    "version": 3
   },
   "file_extension": ".py",
   "mimetype": "text/x-python",
   "name": "python",
   "nbconvert_exporter": "python",
   "pygments_lexer": "ipython3",
   "version": "3.7.6"
  }
 },
 "nbformat": 4,
 "nbformat_minor": 4
}
