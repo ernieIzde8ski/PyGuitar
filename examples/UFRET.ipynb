{
 "cells": [
  {
   "cell_type": "markdown",
   "metadata": {},
   "source": [
    "# U-FRET"
   ]
  },
  {
   "cell_type": "code",
   "execution_count": 1,
   "metadata": {},
   "outputs": [],
   "source": [
    "url = \"https://www.ufret.jp/song.php?data=5012\""
   ]
  },
  {
   "cell_type": "markdown",
   "metadata": {},
   "source": [
    "## Scraping"
   ]
  },
  {
   "cell_type": "markdown",
   "metadata": {},
   "source": [
    "#### `get_ufret_chords`"
   ]
  },
  {
   "cell_type": "code",
   "execution_count": 2,
   "metadata": {},
   "outputs": [],
   "source": [
    "from guitar.ufret import get_ufret_chords"
   ]
  },
  {
   "cell_type": "code",
   "execution_count": 3,
   "metadata": {},
   "outputs": [
    {
     "name": "stdout",
     "output_type": "stream",
     "text": [
      "Accessing to \u001b[34mhttps://www.ufret.jp/song.php?data=5012\u001b[0m...\n"
     ]
    },
    {
     "name": "stderr",
     "output_type": "stream",
     "text": [
      "\r",
      "  0%|          | 0/72 [00:00<?, ?it/s]"
     ]
    },
    {
     "name": "stdout",
     "output_type": "stream",
     "text": [
      "Set capo to \u001b[32m0\u001b[0m\n",
      "title: \u001b[32m欲望に満ちた青年団 / ONE OK ROCK\u001b[0m\n"
     ]
    },
    {
     "name": "stderr",
     "output_type": "stream",
     "text": [
      "100%|██████████| 72/72 [00:10<00:00,  6.65it/s]\n"
     ]
    }
   ],
   "source": [
    "title, key, data = get_ufret_chords(url, capo=\"0\")"
   ]
  },
  {
   "cell_type": "markdown",
   "metadata": {},
   "source": [
    "#### `get_ufret_chords_with_driver`\n",
    "\n",
    "If you want to use your specified `driver`, use `get_ufret_chords_with_driver` function.\n",
    "\n",
    "```python\n",
    "from guitar.ufret import get_ufret_chords_with_driver\n",
    "from selenium import webdriver\n",
    "\n",
    "driver = webdriver.Chrome()\n",
    "get_ufret_chords_with_driver(driver, url, key=\"0\", to_json=True)\n",
    "driver.quit()\n",
    "```"
   ]
  },
  {
   "cell_type": "markdown",
   "metadata": {},
   "source": [
    "## Export ChordBook"
   ]
  },
  {
   "cell_type": "code",
   "execution_count": 4,
   "metadata": {},
   "outputs": [],
   "source": [
    "import re\n",
    "from guitar.utils import find_key_major_scale\n",
    "from guitar import Guitar"
   ]
  },
  {
   "cell_type": "code",
   "execution_count": 5,
   "metadata": {},
   "outputs": [],
   "source": [
    "notes = {e for val in data.values() for e in val.get(\"chord\")}"
   ]
  },
  {
   "cell_type": "code",
   "execution_count": 6,
   "metadata": {},
   "outputs": [],
   "source": [
    "notes = list(set([re.sub(r\"([A-G]#?m?).*\", r\"\\1\", note) for note in notes if note!=\"\"]))"
   ]
  },
  {
   "cell_type": "code",
   "execution_count": 7,
   "metadata": {},
   "outputs": [
    {
     "name": "stdout",
     "output_type": "stream",
     "text": [
      "['C#m', 'F#m', 'A#m', 'B', 'D#m', 'E', 'F#', 'D#', 'C#', 'G#m', 'Fm']\n"
     ]
    }
   ],
   "source": [
    "print(notes)"
   ]
  },
  {
   "cell_type": "markdown",
   "metadata": {},
   "source": [
    "TODO: `PyGuitar` should understand the `key` only from above `notes`"
   ]
  },
  {
   "cell_type": "code",
   "execution_count": 8,
   "metadata": {},
   "outputs": [
    {
     "name": "stdout",
     "output_type": "stream",
     "text": [
      "The current \u001b[34mfont.family\u001b[0m is \u001b[32m['IPAMincho']\u001b[0m.\n"
     ]
    },
    {
     "name": "stderr",
     "output_type": "stream",
     "text": [
      "/Users/iwasakishuto/Github/PyGuitar/guitar/utils/coloring_utils.py:14: MatplotlibDeprecationWarning: The global colormaps dictionary is no longer considered public API.\n",
      "  rgba = cm.cmap_d.get(theme)(i/LEN_OCTAVES)\n"
     ]
    }
   ],
   "source": [
    "guitar = Guitar(key=\"B\", scale=\"major\", dark_mode=False, name=\"欲望に満ちた少年団(ONE OK ROCK)\", is_ja=True)"
   ]
  },
  {
   "cell_type": "code",
   "execution_count": 9,
   "metadata": {
    "scrolled": false
   },
   "outputs": [
    {
     "name": "stderr",
     "output_type": "stream",
     "text": [
      "/Users/iwasakishuto/Github/PyGuitar/guitar/utils/coloring_utils.py:24: MatplotlibDeprecationWarning: The global colormaps dictionary is no longer considered public API.\n",
      "  cmap = cm.cmap_d.get(theme)\n"
     ]
    },
    {
     "name": "stdout",
     "output_type": "stream",
     "text": [
      "欲望に満ちた少年団(ONE OK ROCK)-key_B-major_scale.pdf 110/144[###############-----] 76.39% - 22.718[s]   \u001b[01mchord\u001b[0m: \u001b[34mA#m\u001b[0m, \u001b[01mlyric\u001b[0m: \u001b[34mもう一度光\u001b[0mme,Wehavegrown\u001b[0mne\u001b[0m"
     ]
    },
    {
     "name": "stderr",
     "output_type": "stream",
     "text": [
      "/Users/iwasakishuto/Github/PyGuitar/guitar/main.py:217: UserWarning: F is not included in the ['B', 'C#', 'D#', 'E', 'F#', 'G#', 'A#']\n",
      "  warnings.warn(f\"{chode} is not included in the {self.notes}\")\n"
     ]
    },
    {
     "name": "stdout",
     "output_type": "stream",
     "text": [
      "欲望に満ちた少年団(ONE OK ROCK)-key_B-major_scale.pdf 144/144[####################]100.00% - 31.189[s]   \u001b[01mchord\u001b[0m: \u001b[34mC#\u001b[0m, \u001b[01mlyric\u001b[0m: \u001b[34m\u001b[0mmm\u001b[0m0m\n",
      "Save at \u001b[34m欲望に満ちた少年団(ONE OK ROCK)-key_B-major_scale.pdf\u001b[0m\n"
     ]
    },
    {
     "data": {
      "text/plain": [
       "<Figure size 1512x2138.4 with 0 Axes>"
      ]
     },
     "metadata": {},
     "output_type": "display_data"
    },
    {
     "data": {
      "text/plain": [
       "<Figure size 1512x2138.4 with 0 Axes>"
      ]
     },
     "metadata": {},
     "output_type": "display_data"
    },
    {
     "data": {
      "text/plain": [
       "<Figure size 1512x2138.4 with 0 Axes>"
      ]
     },
     "metadata": {},
     "output_type": "display_data"
    },
    {
     "data": {
      "text/plain": [
       "<Figure size 1512x2138.4 with 0 Axes>"
      ]
     },
     "metadata": {},
     "output_type": "display_data"
    },
    {
     "data": {
      "text/plain": [
       "<Figure size 1512x2138.4 with 0 Axes>"
      ]
     },
     "metadata": {},
     "output_type": "display_data"
    },
    {
     "data": {
      "text/plain": [
       "<Figure size 1512x2138.4 with 0 Axes>"
      ]
     },
     "metadata": {},
     "output_type": "display_data"
    },
    {
     "data": {
      "text/plain": [
       "<Figure size 1512x2138.4 with 0 Axes>"
      ]
     },
     "metadata": {},
     "output_type": "display_data"
    },
    {
     "data": {
      "text/plain": [
       "<Figure size 1512x2138.4 with 0 Axes>"
      ]
     },
     "metadata": {},
     "output_type": "display_data"
    },
    {
     "data": {
      "text/plain": [
       "<Figure size 1512x2138.4 with 0 Axes>"
      ]
     },
     "metadata": {},
     "output_type": "display_data"
    }
   ],
   "source": [
    "guitar.create_chord_book(data)"
   ]
  }
 ],
 "metadata": {
  "hide_input": false,
  "kernelspec": {
   "display_name": "Python 3 (/usr/local/bin/)",
   "language": "python",
   "name": "python3"
  },
  "language_info": {
   "codemirror_mode": {
    "name": "ipython",
    "version": 3
   },
   "file_extension": ".py",
   "mimetype": "text/x-python",
   "name": "python",
   "nbconvert_exporter": "python",
   "pygments_lexer": "ipython3",
   "version": "3.8.5"
  }
 },
 "nbformat": 4,
 "nbformat_minor": 4
}
